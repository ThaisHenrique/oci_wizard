{
 "cells": [
  {
   "cell_type": "markdown",
   "id": "84c54342",
   "metadata": {},
   "source": [
    "## USING AUTONOMOUS DATA WAREHOUSE DATA SHARE WITH PANDAS"
   ]
  },
  {
   "cell_type": "code",
   "execution_count": null,
   "id": "7dc16b8f",
   "metadata": {},
   "outputs": [],
   "source": [
    "!pip install delta-sharing"
   ]
  },
  {
   "cell_type": "code",
   "execution_count": null,
   "id": "41429963",
   "metadata": {},
   "outputs": [],
   "source": [
    "import delta_sharing"
   ]
  },
  {
   "cell_type": "code",
   "execution_count": null,
   "id": "5d0250f5",
   "metadata": {},
   "outputs": [],
   "source": [
    "import pandas as pd"
   ]
  },
  {
   "cell_type": "code",
   "execution_count": null,
   "id": "04153737",
   "metadata": {},
   "outputs": [],
   "source": [
    "# local file - but you can use a bucket or OCI Vault\n",
    "share_file_path = 'path_to_delta_share_profile.json'\n",
    "\n",
    "client = delta_sharing.SharingClient(share_file_path)"
   ]
  },
  {
   "cell_type": "code",
   "execution_count": null,
   "id": "857a57f4",
   "metadata": {},
   "outputs": [],
   "source": [
    "# List all shared tables\n",
    "client.list_all_tables()"
   ]
  },
  {
   "cell_type": "code",
   "execution_count": null,
   "id": "958f1dd2",
   "metadata": {},
   "outputs": [],
   "source": [
    "shares = client.list_shares()\n",
    " \n",
    "for share in shares:\n",
    "  schemas = client.list_schemas(share)\n",
    "  for schema in schemas:\n",
    "    tables = client.list_tables(schema)\n",
    "    for table in tables:\n",
    "      print(f'name = {table.name}, share = {table.share}, schema = {table.schema}')"
   ]
  },
  {
   "cell_type": "code",
   "execution_count": null,
   "id": "4645a6b9",
   "metadata": {},
   "outputs": [],
   "source": [
    "table_url = share_file_path + \"#share_name.schema.table_name\""
   ]
  },
  {
   "cell_type": "code",
   "execution_count": null,
   "id": "82573e87",
   "metadata": {},
   "outputs": [],
   "source": [
    "df = delta_sharing.load_as_pandas(table_url)"
   ]
  },
  {
   "cell_type": "code",
   "execution_count": null,
   "id": "26267ac7",
   "metadata": {},
   "outputs": [],
   "source": [
    "# Count lines\n",
    "linhas = len(df)\n",
    "linhas"
   ]
  },
  {
   "cell_type": "code",
   "execution_count": null,
   "id": "3ecacbcb",
   "metadata": {},
   "outputs": [],
   "source": [
    "df.describe()"
   ]
  }
 ],
 "metadata": {
  "kernelspec": {
   "display_name": "Python [conda env:pyspark32_p38_cpu_v3]",
   "language": "python",
   "name": "conda-env-pyspark32_p38_cpu_v3-py"
  },
  "language_info": {
   "codemirror_mode": {
    "name": "ipython",
    "version": 3
   },
   "file_extension": ".py",
   "mimetype": "text/x-python",
   "name": "python",
   "nbconvert_exporter": "python",
   "pygments_lexer": "ipython3",
   "version": "3.8.16"
  }
 },
 "nbformat": 4,
 "nbformat_minor": 5
}

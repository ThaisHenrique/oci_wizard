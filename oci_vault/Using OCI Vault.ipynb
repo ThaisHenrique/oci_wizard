{
 "cells": [
  {
   "cell_type": "markdown",
   "id": "1670134a",
   "metadata": {},
   "source": [
    "### **Retreiving secrets from OCI Vault**"
   ]
  },
  {
   "cell_type": "code",
   "execution_count": null,
   "id": "95d5b7d2",
   "metadata": {},
   "outputs": [],
   "source": [
    "import oci\n",
    "import base64"
   ]
  },
  {
   "cell_type": "code",
   "execution_count": null,
   "id": "cc3dc38e",
   "metadata": {},
   "outputs": [],
   "source": [
    "# using resource principal to authenticate(require policies and dynamic groups configured)\n",
    "# https://docs.oracle.com/en-us/iaas/tools/python/2.125.0/api/signing.html#resource-principals-signer\n",
    "#\n",
    "# rps = oci.auth.signers.get_resource_principals_signer()\n",
    "# secret_client = oci.secrets.SecretsClient(config={}, signer=rps)"
   ]
  },
  {
   "cell_type": "code",
   "execution_count": null,
   "id": "df8d129e",
   "metadata": {},
   "outputs": [],
   "source": [
    "# using api key to authenticate\n",
    "# https://docs.oracle.com/en-us/iaas/tools/python/2.125.1/\n",
    "\n",
    "config = oci.config.from_file(\"path_to_config_file\")\n",
    "secret_client = oci.secrets.SecretsClient(config=config)"
   ]
  },
  {
   "cell_type": "code",
   "execution_count": null,
   "id": "c71ef3f3",
   "metadata": {},
   "outputs": [],
   "source": [
    "# get secret content\n",
    "# https://oracle-cloud-infrastructure-python-sdk.readthedocs.io/en/latest/api/secrets/client/oci.secrets.SecretsClient.html\n",
    "\n",
    "secret = secret_client.get_secret_bundle(\n",
    "    secret_id='ocid1.vaultsecret.....qa', # secret OCID\n",
    "    stage = 'CURRENT'\n",
    ")"
   ]
  },
  {
   "cell_type": "code",
   "execution_count": null,
   "id": "ca5faa21",
   "metadata": {},
   "outputs": [],
   "source": [
    "# decode the secret (base64) to binary and convert the binary data to a UTF-8 str\n",
    "passwd = base64.b64decode(secret.data.secret_bundle_content.content).decode(\"utf-8\")"
   ]
  }
 ],
 "metadata": {
  "kernelspec": {
   "display_name": "Python 3",
   "language": "python",
   "name": "python3"
  },
  "language_info": {
   "codemirror_mode": {
    "name": "ipython",
    "version": 3
   },
   "file_extension": ".py",
   "mimetype": "text/x-python",
   "name": "python",
   "nbconvert_exporter": "python",
   "pygments_lexer": "ipython3",
   "version": "3.11.9"
  }
 },
 "nbformat": 4,
 "nbformat_minor": 5
}
